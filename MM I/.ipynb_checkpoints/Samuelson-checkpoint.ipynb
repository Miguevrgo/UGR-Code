{
 "cells": [
  {
   "cell_type": "markdown",
   "metadata": {},
   "source": [
    "# Modelo de Samuelson #"
   ]
  },
  {
   "cell_type": "markdown",
   "metadata": {},
   "source": [
    "Author: Antonio Valerio Herrezuelo Burtseva y Joaquín Avilés de la Fuente "
   ]
  },
  {
   "cell_type": "code",
   "execution_count": null,
   "metadata": {},
   "outputs": [],
   "source": [
    "import matplotlib.pyplot as plt\n",
    "import numpy as np"
   ]
  },
  {
   "cell_type": "code",
   "execution_count": null,
   "metadata": {},
   "outputs": [],
   "source": [
    "def graficar_samuelson(alpha, beta, G, y0, y1, n):\n",
    "    \"\"\"\n",
    "    Genera una secuencia modelada por la ecuación recursiva:\n",
    "    y_{n+2} = alpha(1-beta)y_{n+1} - beta*alpha*y_n + G\n",
    "\n",
    "    Parámetros:\n",
    "    alpha (float): Parámetro alpha de la ecuación.\n",
    "    beta (float): Parámetro beta de la ecuación.\n",
    "    G (float): Término constante en la ecuación.\n",
    "    y0 (float): Condición inicial para y_0.\n",
    "    y1 (float): Condición inicial para y_1.\n",
    "    n (int): Número de términos de la secuencia a generar.\n",
    "\n",
    "    Devuelve:\n",
    "    list: Lista conteniendo los n primeros términos de la secuencia.\n",
    "    \"\"\"\n",
    "    # Lista para almacenar la secuencia, inicializada con los dos primeros términos\n",
    "    y = [y0, y1]\n",
    "    \n",
    "    # Generar la secuencia hasta n términos\n",
    "    for i in range(2, n):\n",
    "        # Aplicar la ecuación de recurrencia para calcular y_n+2\n",
    "        yn2 = alpha * (1 + beta) * y[i-1] - beta * alpha * y[i-2] + G\n",
    "        # Agregar el nuevo término a la lista\n",
    "        y.append(yn2)\n",
    "\n",
    "    plt.plot(range(len(y)), y, color='blue')\n",
    "    plt.xlabel('Índice')\n",
    "    plt.ylabel('Valor de la secuencia')\n",
    "    plt.title('Secuencia generada por el modelo')\n",
    "    plt.show()"
   ]
  },
  {
   "cell_type": "markdown",
   "metadata": {},
   "source": [
    "## Modelo de Samuelson ##"
   ]
  },
  {
   "cell_type": "code",
   "execution_count": null,
   "metadata": {},
   "outputs": [],
   "source": [
    "def modelo_samuelson(alpha, beta, G, y0, y1, n):\n",
    "    \"\"\"\n",
    "    Genera una secuencia modelada por la ecuación recursiva:\n",
    "    y_{n+2} = alpha(1-beta)y_{n+1} - beta*alpha*y_n + G\n",
    "\n",
    "    Parámetros:\n",
    "    alpha (float): Parámetro alpha de la ecuación.\n",
    "    beta (float): Parámetro beta de la ecuación.\n",
    "    G (float): Término constante en la ecuación.\n",
    "    y0 (float): Condición inicial para y_0.\n",
    "    y1 (float): Condición inicial para y_1.\n",
    "    n (int): Número de términos de la secuencia a generar.\n",
    "\n",
    "    Devuelve:\n",
    "    list: Lista conteniendo los n primeros términos de la secuencia.\n",
    "    \"\"\"\n",
    "    # Lista para almacenar la secuencia, inicializada con los dos primeros términos\n",
    "    y = [y0, y1]\n",
    "    \n",
    "    # Generar la secuencia hasta n términos\n",
    "    for i in range(2, n):\n",
    "        # Aplicar la ecuación de recurrencia para calcular y_n+2\n",
    "        yn2 = alpha * (1 + beta) * y[i-1] - beta * alpha * y[i-2] + G\n",
    "        # Agregar el nuevo término a la lista\n",
    "        y.append(yn2)\n",
    "    \n",
    "    return y"
   ]
  },
  {
   "cell_type": "code",
   "execution_count": null,
   "metadata": {},
   "outputs": [],
   "source": [
    "# Ejemplo de uso de la función con 0<alpha<1 y beta<1/alpha\n",
    "alpha = 0.5\n",
    "beta = 1.5\n",
    "G = 2\n",
    "y0 = 500\n",
    "y1 = 6000\n",
    "n = 150\n",
    "\n",
    "secuencia = modelo_samuelson(alpha, beta, G, y0, y1, n)\n",
    "# Imprimir los resultados cada 5 valores en líneas distintas\n",
    "for i in range(0, len(secuencia), 5):\n",
    "    print(secuencia[i:i+5])\n",
    "\n",
    "# Podemos ver que con los valores dados, la secuencia converge a un valor constante, el punto de equilibrio, Ye=G/(1-alpha)\n",
    "\n",
    "graficar_samuelson(alpha, beta, G, y0, y1, n)"
   ]
  },
  {
   "cell_type": "code",
   "execution_count": null,
   "metadata": {},
   "outputs": [],
   "source": [
    "# Ejemplo de uso de la función con alpha, beta>=1\n",
    "alpha = 1.5\n",
    "beta = 1.5\n",
    "G = 2\n",
    "y0 = 500\n",
    "y1 = 6000\n",
    "n = 150\n",
    "\n",
    "secuencia = modelo_samuelson(alpha, beta, G, y0, y1, n)\n",
    "# Imprimir los resultados cada 5 valores en líneas distintas\n",
    "for i in range(0, len(secuencia), 5):\n",
    "    print(secuencia[i:i+5])\n",
    "\n",
    "# Podemos ver que con los valores dados, la secuencia no converge\n",
    "\n",
    "graficar_samuelson(alpha, beta, G, y0, y1, n)"
   ]
  },
  {
   "cell_type": "code",
   "execution_count": null,
   "metadata": {},
   "outputs": [],
   "source": [
    "# Ejemplo de uso de la función con 0<alpha<1 y beta>1/alpha\n",
    "alpha = 0.5\n",
    "beta = 2.5\n",
    "G = 2\n",
    "y0 = 500\n",
    "y1 = 6000\n",
    "n = 150\n",
    "\n",
    "secuencia = modelo_samuelson(alpha, beta, G, y0, y1, n)\n",
    "# Imprimir los resultados cada 5 valores en líneas distintas\n",
    "for i in range(0, len(secuencia), 5):\n",
    "    print(secuencia[i:i+5])\n",
    "\n",
    "# Podemos ver que con los valores dados, la secuencia no converge\n",
    "\n",
    "graficar_samuelson(alpha, beta, G, y0, y1, n)"
   ]
  },
  {
   "cell_type": "code",
   "execution_count": null,
   "metadata": {},
   "outputs": [],
   "source": []
  }
 ],
 "metadata": {
  "kernelspec": {
   "display_name": "Python 3 (ipykernel)",
   "language": "python",
   "name": "python3"
  },
  "language_info": {
   "codemirror_mode": {
    "name": "ipython",
    "version": 3
   },
   "file_extension": ".py",
   "mimetype": "text/x-python",
   "name": "python",
   "nbconvert_exporter": "python",
   "pygments_lexer": "ipython3",
   "version": "3.11.2"
  }
 },
 "nbformat": 4,
 "nbformat_minor": 2
}
