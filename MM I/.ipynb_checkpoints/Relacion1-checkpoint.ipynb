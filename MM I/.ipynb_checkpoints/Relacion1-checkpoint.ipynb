{
 "cells": [
  {
   "cell_type": "markdown",
   "metadata": {},
   "source": [
    "# Tema 1 #"
   ]
  },
  {
   "cell_type": "code",
   "execution_count": null,
   "metadata": {},
   "outputs": [],
   "source": [
    "import matplotlib.pyplot as plt\n",
    "import numpy as np"
   ]
  },
  {
   "cell_type": "code",
   "execution_count": null,
   "metadata": {},
   "outputs": [],
   "source": [
    "def modelo_malthus(x0, r, n):\n",
    "  \"\"\"\n",
    "  Implementa el modelo de crecimiento económico.\n",
    "\n",
    "  Argumentos:\n",
    "    x0 (int): Población inicial.\n",
    "    r (float): Tasa de crecimiento anual.\n",
    "    n (int): Número de iteraciones.\n",
    "\n",
    "  Retorna:\n",
    "    list: Lista con la población en cada iteración.\n",
    "  \"\"\"\n",
    "  poblacion = []\n",
    "  for i in range(n + 1):\n",
    "    poblacion.append(x0 * (r) ** i)\n",
    "  return poblacion\n",
    "\n",
    "def graficar_modelo_malthus(x0, r, n):\n",
    "  \"\"\"\n",
    "  Calcula y grafica el modelo Economico.\n",
    "\n",
    "  Argumentos:\n",
    "    x0 (int): Población inicial.\n",
    "    r (float): Tasa de crecimiento anual.\n",
    "    n (int): Número de iteraciones.\n",
    "  \"\"\"\n",
    "  poblacion = modelo_malthus(x0, r, n)\n",
    "\n",
    "  plt.figure(figsize=(10, 6))\n",
    "  plt.plot(range(n + 1), poblacion, 'o-')\n",
    "  plt.xlabel(\"Iteración\")\n",
    "  plt.ylabel(\"Población\")\n",
    "  plt.title(f\"Crecimiento Economico (x0={x0}, r={r}, n={n})\")\n",
    "  plt.show()\n",
    "\n"
   ]
  },
  {
   "cell_type": "code",
   "execution_count": null,
   "metadata": {},
   "outputs": [],
   "source": [
    "def graficar(rango, secuencia, label, x_label, y_label, title):\n",
    "    plt.plot(rango, secuencia, label=label)\n",
    "    plt.xlabel(x_label)\n",
    "    plt.ylabel(y_label)\n",
    "    plt.title(title)\n",
    "    plt.legend()\n",
    "    plt.grid(True)\n",
    "    plt.show()\n",
    "\n",
    "def graficar_vectores(rango, y1, y2, label1, label2, xlabel, ylabel, title):\n",
    "    plt.plot(rango, y1, label=label1)\n",
    "    plt.plot(rango, y2, label=label2)\n",
    "    plt.xlabel(xlabel)\n",
    "    plt.ylabel(ylabel)\n",
    "    plt.title(title)\n",
    "    plt.legend()\n",
    "    plt.grid(True)\n",
    "    plt.show()"
   ]
  },
  {
   "cell_type": "code",
   "execution_count": null,
   "metadata": {},
   "outputs": [],
   "source": [
    "import matplotlib.pyplot as plt\n",
    "import numpy as np\n",
    "\n",
    "def find_equilibrium(demand_func, supply_func):\n",
    "    p = 0\n",
    "    while True:\n",
    "        demand = demand_func(p)\n",
    "        supply = supply_func(p)\n",
    "        if abs(demand - supply) < 0.01:  # Umbral de tolerancia\n",
    "            return p\n",
    "        p += 0.01  # Incremento en el precio para la siguiente iteración\n",
    "\n",
    "def cobWeb(a, b, c, d, p_initial, num_periods, plot=False):\n",
    "    prices = [p_initial]\n",
    "    equilibrium_price = (a - c) / (d + b)\n",
    "    supply_f = lambda p: c + d * p\n",
    "    demand_f = lambda p: a - b * p\n",
    "\n",
    "    for i in range(num_periods):\n",
    "        p_current = prices[-1]\n",
    "        p_next = equilibrium_price + (p_initial - equilibrium_price) * (-1)**i * (d / b)**i\n",
    "        prices.append(p_next)\n",
    "\n",
    "    if plot:\n",
    "        plt.figure(figsize=(10, 5))\n",
    "        plt.plot(prices, 'o-', label='Precio por Periodo')\n",
    "        plt.axhline(y=equilibrium_price, color='r', linestyle='--', label='Precio de Equilibrio')\n",
    "        plt.xlabel('Periodo')\n",
    "        plt.ylabel('Precio')\n",
    "        plt.title('Evolución del Precio en el Modelo de la Telaraña')\n",
    "        plt.legend()\n",
    "        plt.show()\n",
    "\n",
    "    return prices\n",
    "\n",
    "def graph_supply_demand(demand_f, supply_f, prices):\n",
    "    max_price = max(prices)\n",
    "    min_price = min(prices)\n",
    "    price_range = np.arange(min_price - 0.1, max_price + 0.1, 0.1)\n",
    "\n",
    "    supply_array = [supply_f(p) for p in price_range]\n",
    "    demand_array = [demand_f(p) for p in price_range]\n",
    "\n",
    "    plt.plot(price_range,supply_array,  label='Oferta', color='green')\n",
    "    plt.plot(price_range,demand_array,  label='Demanda', color='red')\n",
    "\n",
    "\n",
    "def graph_cobWeb(prices, demand_func, supply_func):\n",
    "    \n",
    "    plt.figure(figsize=(10, 5))\n",
    "    plt.ylabel('Cantidad')\n",
    "    plt.xlabel('Precio')\n",
    "    \n",
    "    points_arr = []\n",
    "    for i in range(len(prices) - 1):\n",
    "        p0 = prices[i]\n",
    "        p1 = prices[i + 1]\n",
    "        q0 = supply_func(p0)\n",
    "        q1 = demand_func(p0)\n",
    "\n",
    "        points_arr.append((p0, q0))\n",
    "        points_arr.append((p1, q0))\n",
    "        points_arr.append((p1, q1))\n",
    "    # Separa las coordenadas x de las coordenadas y\n",
    "    x, y = zip(*points_arr)\n",
    "    #Graficalas junto con las funciones supply u demmand\n",
    "\n",
    "    graph_supply_demand(demand_func, supply_func, prices)\n",
    "    plt.plot(x, y, label='Telaraña', color='blue', linestyle='--')\n",
    "    plt.legend()\n",
    "    plt.show()\n",
    "\n",
    "\n",
    "    "
   ]
  },
  {
   "cell_type": "code",
   "execution_count": null,
   "metadata": {},
   "outputs": [],
   "source": [
    "import matplotlib.pyplot as plt\n",
    "import numpy as np\n",
    "\n",
    "def modelo_logistico(a, b, x0, n):\n",
    "    if(a == 0):\n",
    "        return (x0 + n*b)\n",
    "    else:\n",
    "        return ((x0 - b/(1-a))*a**n + b/(1-a))\n",
    "    "
   ]
  },
  {
   "cell_type": "markdown",
   "metadata": {},
   "source": [
    "## Ejercicio 1 (Depósito Capital) ## \n"
   ]
  },
  {
   "cell_type": "code",
   "execution_count": null,
   "metadata": {},
   "outputs": [],
   "source": [
    "# Ejemplo de uso en modelo económico\n",
    "\n",
    "x0 = 10000\n",
    "r = 1.07 # Interes\n",
    "n = 4\n",
    "\n",
    "graficar_modelo_malthus(x0, r, n)\n",
    "print(modelo_malthus(x0, r, n))\n",
    "\n",
    "# Se tiene un capital inicial de 10000 euros y dado un interes del 7% anual, \n",
    "# se espera que el capital crezca exponencialmente en 4 años. En el ejercicio teníamos\n",
    "# un capital de 13107,96 euros a los 4 años y en la gráfica podemos ver que es correcto\n",
    "# dicho cálculo.\n"
   ]
  },
  {
   "cell_type": "markdown",
   "metadata": {},
   "source": [
    "## Ejercicio 2 (Explosión Demográfica) ## "
   ]
  },
  {
   "cell_type": "code",
   "execution_count": null,
   "metadata": {},
   "outputs": [],
   "source": [
    "\n",
    "x0 = 2\n",
    "r = 1.16\n",
    "n = 5 # Tras 5 iteraciones se duplica\n",
    "\n",
    "graficar_modelo_malthus(x0, r, n)\n",
    "print(modelo_malthus(x0, r, n))\n",
    "\n",
    "x0 = 2\n",
    "r = 1.16\n",
    "n = 10 # Tras 5 iteraciones se cuadriplica\n",
    "graficar_modelo_malthus(x0, r, n)\n",
    "print(modelo_malthus(x0, r, n))\n",
    "\n",
    "# En este ejercicio se tiene una tasa de crecimiento de alpa=0,16 y se calculo\n",
    "# matemáticamente que en un periodo n=5 y n=10 se duplica y cuadriplica respectivamente,\n",
    "# dicho resultado se puede ver que es correcto grafiacamente y en el cálculo de la función."
   ]
  },
  {
   "cell_type": "markdown",
   "metadata": {},
   "source": [
    "## Ejercicio 3 (Eliminación Farmaco Sangre) ## "
   ]
  },
  {
   "cell_type": "markdown",
   "metadata": {},
   "source": [
    "En el ejericio se tiene una vida media de 2 semanas, veamos que calculando la constante r=13/14 y tomando un valor inicial de 4.225, se espera que en 5 días la concentración del fármaco en sangre sea de 3 mg/cm³ y en la gráfica se puede ver que es correcto. \n"
   ]
  },
  {
   "cell_type": "code",
   "execution_count": null,
   "metadata": {},
   "outputs": [],
   "source": [
    "x0 = 4.225\n",
    "r = 13/14\n",
    "n = 5 # Tras 5 iteraciones se duplica\n",
    "\n",
    "graficar_modelo_malthus(x0, r, n)\n",
    "print(modelo_malthus(x0, r, n))\n"
   ]
  },
  {
   "cell_type": "markdown",
   "metadata": {},
   "source": [
    "En este segundo apartado, se va a comprobar que el cálculo hecho en el ejercicio es correcto. Para ello comprobemos que el dato obtenido, es decir, el periodo n=51 es aquel el cual hace que la concentración del fármaco en sangre sea menor a 0,1 mg/cm³. En la gráfica se puede ver que es correcto, y en el cálculo de la función también."
   ]
  },
  {
   "cell_type": "code",
   "execution_count": null,
   "metadata": {},
   "outputs": [],
   "source": [
    "x0 = 4.225\n",
    "r = 13/14\n",
    "n = 51 \n",
    "\n",
    "graficar_modelo_malthus(x0, r, n)\n",
    "# Cada 5 iteraciones se imprime un salto de linea\n",
    "for i in range(n+1):\n",
    "  if i % 5 == 0:\n",
    "    print()\n",
    "  print(modelo_malthus(x0, r, n)[i], end=\" \")\n",
    "\n",
    "  "
   ]
  },
  {
   "cell_type": "markdown",
   "metadata": {},
   "source": [
    "## Ejercicio 4 (Desintegración Carbono-14) ## "
   ]
  },
  {
   "cell_type": "markdown",
   "metadata": {},
   "source": [
    "El objetivo en el primer apartado es comprobar que efectivamente dada una antiguedad de 9798 años, que equivale a 10 milenios (recordar que n indica milenios), la cantidad de carbono-14 que tienen los restos es 15.27%. Para ello hemos tomado n=10 y nos da un resultado de 0.146 muy parecido al resultado que nos debe dar, ya que no es igual al trabajar con 10000 años y no 9798."
   ]
  },
  {
   "cell_type": "code",
   "execution_count": null,
   "metadata": {},
   "outputs": [],
   "source": [
    "# Vida media 5780 años\n",
    "x0 = 1\n",
    "r = 0.825\n",
    "n = 10\n",
    "\n",
    "graficar_modelo_malthus(x0, r, n)\n",
    "# Cada 5 iteraciones se imprime un salto de linea\n",
    "for i in range(n+1):\n",
    "  if i % 5 == 0:\n",
    "    print()\n",
    "  print(modelo_malthus(x0, r, n)[i], end=\" \")"
   ]
  },
  {
   "cell_type": "markdown",
   "metadata": {},
   "source": [
    "En este segundo apartado, el objetivo es comprobar que efectivamente tras 1000 años de antiguedad (1 milenio) r=0.825 o lo que es equivalente tomando r dicho valor comprobar que tras un milenio la cantidad de restos arqueológicos es del 82.5%."
   ]
  },
  {
   "cell_type": "code",
   "execution_count": null,
   "metadata": {},
   "outputs": [],
   "source": [
    "# Vida media 5780 años\n",
    "x0 = 1000\n",
    "r = 0.825\n",
    "n = 1\n",
    "\n",
    "# Cada 5 iteraciones se imprime un salto de linea\n",
    "for i in range(n+1):\n",
    "  if i % 5 == 0:\n",
    "    print()\n",
    "  print(modelo_malthus(x0, r, n)[i], end=\" \")"
   ]
  },
  {
   "cell_type": "markdown",
   "metadata": {},
   "source": [
    "## Ejercicio 5 (Hospital) ##"
   ]
  },
  {
   "cell_type": "markdown",
   "metadata": {},
   "source": [
    "Hemos calculado la cantidad de personas que no han superado la enfermedad para el día n=7, lo cual coincide con nuestros resultados matemáticos (10 personas)"
   ]
  },
  {
   "cell_type": "code",
   "execution_count": null,
   "metadata": {},
   "outputs": [],
   "source": [
    "x0 = 20\n",
    "# raiz septima de 2\n",
    "r = 1/(2 ** (1/7))\n",
    "n = 7\n",
    "\n",
    "# Cada 5 iteraciones se imprime un salto de linea\n",
    "for i in range(n+1):\n",
    "  if i % 5 == 0:\n",
    "    print()\n",
    "  print(modelo_malthus(x0, r, n)[i], end=\" \")"
   ]
  },
  {
   "cell_type": "markdown",
   "metadata": {},
   "source": [
    "Sabiendo el valor de r, obtendremos que cantidad de personas no deberían haber superado la enfermedad el día n=25, y comprobaremos que no coincide con el enunciado, por lo que el Modelo de Malthus no es correcto para representar esta enfermedad. Recalcar que los resultado para n=25 coinciden con los obtenidos matemáticamente"
   ]
  },
  {
   "cell_type": "code",
   "execution_count": null,
   "metadata": {},
   "outputs": [],
   "source": [
    "x0 = 20\n",
    "# raiz septima de 2\n",
    "r = 1/(2 ** (1/7))\n",
    "n = 25\n",
    "\n",
    "graficar_modelo_malthus(x0, r, n)\n",
    "\n",
    "# Cada 5 iteraciones se imprime un salto de linea\n",
    "for i in range(n+1):\n",
    "  if i % 5 == 0:\n",
    "    print()\n",
    "  print(modelo_malthus(x0, r, n)[i], end=\" \")"
   ]
  },
  {
   "cell_type": "markdown",
   "metadata": {},
   "source": [
    "## Ejercicio 6 (Apicultora de la Alpujarra) ##"
   ]
  },
  {
   "cell_type": "markdown",
   "metadata": {},
   "source": [
    "Destacar la definición de dicha función para poder obtener los datos queridos por las dos ecauciones de recurrencias dadas en los n periodos. Recalcar que según los parámetros pasados las ecuaciones de recurrencia serán distintas."
   ]
  },
  {
   "cell_type": "code",
   "execution_count": null,
   "metadata": {},
   "outputs": [],
   "source": [
    "def modelar_dos_recurrencias(x0, x_mantener, y0, y_mantener, n):\n",
    "    # Listas para almacenar los valores de x_n y y_n\n",
    "    x_n = [x0]\n",
    "    y_n = [y0]\n",
    "    \n",
    "    # Iteramos para calcular los valores siguientes\n",
    "    for n in range(1, n + 1):\n",
    "        # Calculamos los nuevos valores de x y y\n",
    "        x_new = x_mantener * x_n[-1] + (1-y_mantener) * y_n[-1]\n",
    "        y_new = (1-x_mantener) * x_n[-1] + y_mantener * y_n[-1]\n",
    "        \n",
    "        # Añadimos los nuevos valores a las listas\n",
    "        x_n.append(x_new)\n",
    "        y_n.append(y_new)\n",
    "    \n",
    "    # Devolvemos los resultados como tuplas de listas\n",
    "    return x_n, y_n\n"
   ]
  },
  {
   "cell_type": "markdown",
   "metadata": {},
   "source": [
    "En este ejercicio, dadas las dos ecuaciones de recurrencias y los datos iniciales vamos a comprobar que el número de abejas apra el tomillo y para el romero a largo plazo coinciden con los obtenidos matemáticamente en nuestros calculos"
   ]
  },
  {
   "cell_type": "code",
   "execution_count": null,
   "metadata": {},
   "outputs": [],
   "source": [
    "# Ejemplo de uso:\n",
    "romero_inicial = 3400\n",
    "tomillo_inicial = 2600\n",
    "romero_mantener = 0.75\n",
    "tomillo_mantener = 0.5\n",
    "iteraciones = 50\n",
    "\n",
    "romero_lista, tomillo_lista = modelar_dos_recurrencias(romero_inicial, romero_mantener, tomillo_inicial, tomillo_mantener, iteraciones)\n",
    "\n",
    "# Imprimir los resultados cada 5 valores en líneas distintas\n",
    "for i in range(0, len(romero_lista), 5):\n",
    "    print(romero_lista[i:i+5])\n",
    "\n",
    "# Imprimir los resultados cada 5 valores en líneas distintas\n",
    "for i in range(0, len(tomillo_lista), 5):\n",
    "    print(tomillo_lista[i:i+5])\n",
    "\n",
    "graficar_vectores(range(iteraciones + 1), romero_lista, tomillo_lista, \"Abejas Romero\", \"Abejas Tomillo\", \"Iteración\", \"Cantidad de Abejas\", \"Cantidad de Abejas de Romero y Tomillo\")"
   ]
  },
  {
   "cell_type": "markdown",
   "metadata": {},
   "source": [
    "Después de visualizarlo en las gráficas y ver los datos resultantes, podemos corroborar que el resultado obtenido matemáticamente a largo plazo (usando límite de n tendiendo a infinito) para las abejas de los dos tipos son correctos."
   ]
  },
  {
   "cell_type": "markdown",
   "metadata": {},
   "source": [
    "## Ejercicio 7 (País A y B) ##"
   ]
  },
  {
   "cell_type": "markdown",
   "metadata": {},
   "source": [
    "En este ejercicio, se trata de hacer lo mismo que en ejercicio anterior usando la misma función creada antes, pero con otros datos."
   ]
  },
  {
   "cell_type": "code",
   "execution_count": null,
   "metadata": {},
   "outputs": [],
   "source": [
    "# Ejemplo de uso:\n",
    "paisA_inicial = 0\n",
    "paisB_inicial = 1\n",
    "paisA_mantener = 0.9\n",
    "paisB_mantener = 0.70\n",
    "iteraciones = 50\n",
    "\n",
    "paisA_lista, paisB_lista = modelar_dos_recurrencias(paisA_inicial, paisA_mantener, paisB_inicial, paisB_mantener, iteraciones)\n",
    "\n",
    "# Imprimir los resultados cada 5 valores en líneas distintas\n",
    "for i in range(0, len(paisA_lista), 5):\n",
    "    print(paisA_lista[i:i+5])\n",
    "\n",
    "# Imprimir los resultados cada 5 valores en líneas distintas\n",
    "for i in range(0, len(paisB_lista), 5):\n",
    "    print(paisB_lista[i:i+5])\n",
    "\n",
    "graficar_vectores(range(iteraciones + 1), paisA_lista, paisB_lista, \"Pais A\", \"Pais B\", \"Iteración\", \"Porcentaje de Población\", \"Porcentaje de Población de los Paises A y B\")"
   ]
  },
  {
   "cell_type": "markdown",
   "metadata": {},
   "source": [
    "Vemos que los resultados coinciden con los matemáticos."
   ]
  },
  {
   "cell_type": "markdown",
   "metadata": {},
   "source": [
    "## Ejercicio 8 (Compañia Paga+ y Paga-) ##"
   ]
  },
  {
   "cell_type": "code",
   "execution_count": null,
   "metadata": {},
   "outputs": [],
   "source": [
    "# En este caso da igual el valor pagamas_inicial y pagamenos_inicial que siempre convergerá la secuencia a los mismos valores finales, es decir\n",
    "# pagamas_final=1/3 y pagamenos_final=2/3\n",
    "# Ejemplo de uso:\n",
    "pagamas_inicial = 0.75\n",
    "pagamenos_inicial = 0.25\n",
    "pagamas_mantener = 0.5\n",
    "pagamenos_mantener = 0.75\n",
    "iteraciones = 50\n",
    "\n",
    "pagamas_lista, pagamenos_lista = modelar_dos_recurrencias(pagamas_inicial, pagamas_mantener, pagamenos_inicial, pagamenos_mantener, iteraciones)\n",
    "\n",
    "# Imprimir los resultados cada 5 valores en líneas distintas\n",
    "for i in range(0, len(pagamas_lista), 5):\n",
    "    print(pagamas_lista[i:i+5])\n",
    "\n",
    "# Imprimir los resultados cada 5 valores en líneas distintas\n",
    "for i in range(0, len(pagamenos_lista), 5):\n",
    "    print(pagamenos_lista[i:i+5])\n",
    "\n",
    "graficar_vectores(range(iteraciones + 1), pagamas_lista, pagamenos_lista, \"Paga+\", \"Paga-\", \"Iteración\", \"Porcentaje de Población\", \"Porcentaje de Población de las empresas Paga+ y Paga-\")"
   ]
  },
  {
   "cell_type": "markdown",
   "metadata": {},
   "source": [
    "Vemos que los resultados coinciden con los matemáticos."
   ]
  },
  {
   "cell_type": "markdown",
   "metadata": {},
   "source": [
    "## Ejercicio 9 (Partidas de ajedrez) ##\n"
   ]
  },
  {
   "cell_type": "markdown",
   "metadata": {},
   "source": [
    "La jugadora de ajedrez usa dos estrategias, A y B. La estrategia A tiene una probabilidad de ganar del 80% y la estrategia B del 60%. La jugadora adapta su estrategia semanalmente basándose en las derrotas y empates obtenidos usando B la semana anterior, jugando tantas partidas con B la siguiente semana como derrotas y empates obtuvo.\n",
    "\n",
    "### Análisis del problema\n",
    "\n",
    "La jugadora ajusta el uso de las estrategias para diversificar su juego, lo que podría llevar a un ciclo retroalimentado que finalmente balancea el uso de ambas estrategias. Si en una semana usa mucho B y no tiene éxito, usará mucho B la semana siguiente, y así sucesivamente hasta que las ganancias con A compensen el total de partidas.\n",
    "\n",
    "### Razonamiento Matemático\n",
    "\n",
    "Si se denota $a_n$ al número de partidas jugadas con la estrategia A en la semana n y respectivamente $b_n$ al número de partidas con B en la semana n, tenemos que:\n",
    "$$ b_{n+1} = 0,2a_n+0,4b_n $$\n",
    "\n",
    "### Simulación de Partidas\n",
    "\n",
    "Vamos a simular el número de partidas jugadas con B durante 50 semanas para ilustrar este equilibrio.\n",
    "\n"
   ]
  },
  {
   "cell_type": "code",
   "execution_count": null,
   "metadata": {},
   "outputs": [],
   "source": [
    "import matplotlib.pyplot as plt\n",
    "import numpy as np\n",
    "\n",
    "\n",
    "def recurrencias(a_values, b_values, n):\n",
    "\n",
    "    # Condición inicial, asumiendo algún valor inicial para b_0\n",
    "    b0 = 0  # Puedes cambiar esto según sea necesario\n",
    "    b_values.append(b0)\n",
    "    a_values.append(40 - b0)\n",
    "\n",
    "    # Iterar para calcular los valores de a_n y b_n hasta n\n",
    "    for i in range(n):\n",
    "        b_nmas1 = 0.2 * a_values[i] + 0.4 * b_values[i]\n",
    "        b_values.append(b_nmas1)\n",
    "\n",
    "        a_n = 40 - b_values[i]\n",
    "        a_values.append(a_n)\n",
    "\n",
    "# Listas para almacenar los valores de a_n y b_n\n",
    "a_values = []\n",
    "b_values = []\n",
    "n=50\n",
    "\n",
    "# Llamar a la función con el valor deseado de n\n",
    "recurrencias(a_values, b_values, n)\n",
    "graficar_vectores(range(n+1), a_values, b_values, 'a_n', 'b_n', 'n', 'Partidas', 'Recurrencias $a_n$ y $b_n$')\n",
    "\n",
    "# Imprimir los resultados cada 5 valores en líneas distintas\n",
    "for i in range(0, len(a_values), 5):\n",
    "    print(a_values[i:i+5])\n",
    "\n",
    "# Imprimir los resultados cada 5 valores en líneas distintas\n",
    "for i in range(0, len(b_values), 5):\n",
    "    print(b_values[i:i+5])"
   ]
  },
  {
   "cell_type": "markdown",
   "metadata": {},
   "source": [
    "## Ejercicio 10: Modelo de explotación maderera\n",
    "\n",
    "### a) Ley de Recurrencia del Modelo\n",
    "\n",
    "Una compañía maderera gestiona un bosque talando el 10% de los árboles cada año y replantando un número fijo de árboles, denotado como $ K $. El modelo del tamaño del bosque en el año $ n $, $ p_n $, se puede expresar mediante la siguiente ley de recurrencia:\n",
    "\n",
    "$$\n",
    "p_{n+1} = 0.9 \\cdot p_n + K\n",
    "$$\n",
    "\n",
    "donde $ 0.9 \\cdot p_n $ representa el 90% del bosque que queda después de la tala.\n",
    "\n",
    "### b) Solución del modelo con condiciones iniciales\n",
    "\n",
    "Dado un tamaño inicial del bosque de 10,000 árboles, calculamos la evolución del tamaño del bosque para los próximos años, obteniendo por tanto la siguiente solución para la ecuación del modelo\n",
    "$$p_n=(p_0-10K)0,9^n +10K$$\n",
    "\n",
    "### c) Cálculo del precio mínimo de venta por árbol\n",
    "\n",
    "Para que la explotación sea rentable a largo plazo, el precio de venta por árbol talado debe al menos cubrir el costo de replantación. Considerando que plantar un árbol cuesta 1 euro, el precio mínimo de venta de cada árbol debe ser este costo, ajustado por cualquier otro factor económico relevante.\n"
   ]
  },
  {
   "cell_type": "code",
   "execution_count": null,
   "metadata": {},
   "outputs": [],
   "source": [
    "import matplotlib.pyplot as plt\n",
    "\n",
    "# Simular la evolución del bosque durante los años especificados mediante\n",
    "# la ecuación de recurrencia p_n = 0.9 * p_{n-1} + K\n",
    "def bosque_recurrencia(p_0, K, years, bosque):\n",
    "    # Lista para almacenar el tamaño del bosque cada año\n",
    "    bosque.append(p_0)\n",
    "\n",
    "    # Iterar para calcular el tamaño del bosque en cada año\n",
    "    for n in range(1, years + 1):\n",
    "        p_next = 0.9 * bosque[n-1] + K\n",
    "        bosque.append(p_next)\n",
    "\n",
    "    return bosque\n",
    "\n",
    "# Simular la evolución del bosque durante los años especificados mediante\n",
    "# la solución de la ecuación de recurrencia p_n=(p_0-K/0.1)*0.9^n+K/0.1\n",
    "def bosque_solucion(p_0, K, years, bosque):\n",
    "    # Lista para almacenar el tamaño del bosque cada año\n",
    "    bosque.append(p_0)\n",
    "\n",
    "    # Iterar para calcular el tamaño del bosque en cada año\n",
    "    for n in range(1, years + 1):\n",
    "        p_next = (p_0 - K/0.1) * 0.9**n + K/0.1\n",
    "        bosque.append(p_next)\n",
    "\n",
    "    return bosque\n",
    "\n",
    "# El objetivo será ver que las soluciones obtenidas con ambas \n",
    "# formulaciones son iguales (la ecuación de recurrencia y la solución de la ecuación de recurrencia)\n",
    "\n",
    "\n",
    "# Parámetros iniciales\n",
    "p_0 = 10000  # Tamaño inicial del bosque\n",
    "K = 100     # Número fijo de árboles plantados cada año\n",
    "years = 500  # Número de años a simular\n",
    "\n",
    "# Lista para almacenar el tamaño del bosque cada año con los dos métodos\n",
    "arboles_rec= []\n",
    "arboles_sol = []\n",
    "\n",
    "# Simular la evolución del bosque mediante la ecuación de recurrencia\n",
    "bosque_recurrencia(p_0, K, years, arboles_rec)\n",
    "bosque_solucion(p_0, K, years, arboles_sol)\n",
    "\n",
    "\n",
    "# Graficar la evolución del tamaño del bosque\n",
    "graficar(range(years+1), arboles_rec, 'Ecuación de Recurrencia', 'Años', 'Número de Árboles', 'Evolución del Bosque')\n",
    "graficar(range(years+1), arboles_sol, 'Solución de la Recurrencia', 'Años', 'Número de Árboles', 'Evolución del Bosque')\n",
    "\n",
    "# Imprimir los resultados cada 5 valores en líneas distintas\n",
    "for i in range(0, len(arboles_rec), 5):\n",
    "    print(arboles_rec[i:i+5])\n",
    "\n",
    "# Imprimir los resultados cada 5 valores en líneas distintas\n",
    "for i in range(0, len(arboles_sol), 5):\n",
    "    print(arboles_sol[i:i+5])\n",
    "\n",
    "# En la muestra de los resultados (numeros de arboles) se puede ver que los valores son iguales\n",
    "# y que el número de arboles a largo plazo tiende a 10K\n",
    "\n",
    "# Dada la ecuación de recurrencia de las ganancias v_n en el periodo n,\n",
    "# v_{n+1}=0,1*v*p_n-K, veamos que a largo plazo converge a K(v-1)\n",
    "\n",
    "v=1.5\n",
    "\n",
    "def ganancias_recurrencia(v, p_0, K, years, ganancias, arboles):\n",
    "    # Lista para almacenar las ganancias cada año\n",
    "    ganancias.append(0.1 * v * p_0 - K)\n",
    "\n",
    "    # Iterar para calcular las ganancias en cada año\n",
    "    for n in range(1, years + 1):\n",
    "        ganancia_next = 0.1 * v * arboles[n-1] - K\n",
    "        ganancias.append(ganancia_next)\n",
    "\n",
    "    return ganancias\n",
    "\n",
    "ganancias= []\n",
    "ganancias_recurrencia(v, p_0, K, years, ganancias, arboles_sol)\n",
    "\n",
    "graficar(range(years+1), ganancias, 'Ecuación de Recurrencia', 'Años', 'Ganancias', 'Evolución de las Ganancias')\n",
    "# Imprimir los resultados cada 5 valores en líneas distintas\n",
    "for i in range(0, len(ganancias), 5):\n",
    "    print(ganancias[i:i+5])\n",
    "\n",
    "# Se puede observar en la muetra de los valores que efectivamente tiende a K(v-1) a largo plazo"
   ]
  },
  {
   "cell_type": "markdown",
   "metadata": {},
   "source": [
    "Podemos observar que las soluciones gráficas tanto de la ecuación de recurrencia como de la solución de la ecuación de recurrencia son iguales, por lo que el cálculo para obtener la solución está bien realizado."
   ]
  },
  {
   "cell_type": "markdown",
   "metadata": {},
   "source": [
    "## Ejercicio 11: Dinámica de precios según el modelo de la telaraña\n",
    "\n",
    "### a) Ecuación en diferencias y precio de equilibrio\n",
    "\n",
    "El modelo de la telaraña analiza la evolución de precios en un mercado donde las decisiones sobre la oferta se basan en precios pasados. Las funciones de oferta $O(p)$ y demanda $D(p)$ para este ejercicio están definidas como:\n",
    "\n",
    "- Oferta: $O(p) = 1 + p$\n",
    "- Demanda: $D(p) = 2 - 2p$\n",
    "\n",
    "El equilibrio se alcanza cuando $O(p) = D(p)$, lo cual nos da:\n",
    "\n",
    "$$\n",
    "1 + p = 2 - 2p\n",
    "$$\n",
    "$$\n",
    "3p = 1\n",
    "$$\n",
    "$$\n",
    "p^* = \\frac{1}{3}\n",
    "$$\n",
    "\n",
    "La ecuación en diferencias que describe la dinámica del precio es más compleja, considerando que el precio en el periodo $n+1$ depende del equilibrio establecido por la oferta basada en el precio del periodo $n$:\n",
    "\n",
    "$$\n",
    "p_{n+1} = D^{-1}(O(p_n)) = \\frac{2 - (1 + p_n)}{2} = 0.5 - 0.5 \\cdot p_n\n",
    "$$\n",
    "\n",
    "### b) Tendencia del precio del producto a largo plazo\n",
    "\n",
    "Dado que la relación de precios es $p_{n+1} = 0.5 - 0.5 \\cdot p_n$, este modelo sugiere una convergencia al precio de equilibrio de $p^* = \\frac{1}{3}$ a medida que $n$ tiende a infinito, ya que el factor multiplicativo $|0.5|$ es menor que 1.\n",
    "\n",
    "### c) Análisis gráfico de la evolución de los precios\n",
    "\n",
    "Utilizaremos una simulación para visualizar cómo evolucionan los precios en este modelo a lo largo de varios periodos, esperando ver cómo convergen al precio de equilibrio.\n"
   ]
  },
  {
   "cell_type": "code",
   "execution_count": null,
   "metadata": {},
   "outputs": [],
   "source": [
    "\n",
    "import matplotlib.pyplot as plt\n",
    "\n",
    "def oferta(p):\n",
    "    return 1 + p\n",
    "\n",
    "def demanda(p):\n",
    "    return 2 - 2 * p\n",
    "\n",
    "a = 2.0\n",
    "b = 2.0\n",
    "c = 1.0\n",
    "d = 1.0\n",
    "\n",
    "# Parámetros iniciales\n",
    "precio_inicial = 1 # Un precio inicial para ver la convergencia\n",
    "periodos = 20  # Número de periodos a simular\n",
    "\n",
    "\n",
    "\n",
    "prices = cobWeb(a,b,c,d, precio_inicial, periodos, plot=False)\n"
   ]
  },
  {
   "cell_type": "markdown",
   "metadata": {},
   "source": [
    "Si gráficamos pues el modelo de la telaraña, podemos ver cómo los precios convergen al precio de equilibrio de 1/3."
   ]
  },
  {
   "cell_type": "code",
   "execution_count": null,
   "metadata": {},
   "outputs": [],
   "source": [
    "graph_cobWeb(prices, demanda, oferta)"
   ]
  },
  {
   "cell_type": "markdown",
   "metadata": {},
   "source": [
    "Curiosamente, podemos gráficar solo los precios y ver cómo convergen al precio de equilibrio."
   ]
  },
  {
   "cell_type": "code",
   "execution_count": null,
   "metadata": {},
   "outputs": [],
   "source": [
    "null = cobWeb(a,b,c,d, precio_inicial, periodos, plot=True) #Ponemos null = simplemente para que no se muestre el resultado de la función, solo la gráfica"
   ]
  },
  {
   "cell_type": "markdown",
   "metadata": {},
   "source": [
    "## Ejercicio 12: Dinámica de precios según el modelo de la telaraña V2\n",
    "Resuelve el Ejercicio 11 para el caso en que las funciones de oferta y demanda vienen dadas por:\n",
    "\n",
    "O(p) = 1 + p, D(p) = 2 − 0,5 p\n",
    "\n",
    "\n",
    "#### Simplemente:\n",
    "Basta con usar las mismas funciones que antes con estos nuevos parámetros:"
   ]
  },
  {
   "cell_type": "code",
   "execution_count": null,
   "metadata": {},
   "outputs": [],
   "source": [
    "import matplotlib.pyplot as plt\n",
    "\n",
    "def oferta(p):\n",
    "    return 1 + p\n",
    "\n",
    "def demanda(p):\n",
    "    return 2 - 0.5 * p\n",
    "\n",
    "a = 2.0\n",
    "b = 0.5\n",
    "c = 1.0\n",
    "d = 1.0\n",
    "\n",
    "# Parámetros iniciales\n",
    "precio_inicial = 1 # Un precio inicial para ver la divergencia\n",
    "periodos = 20  # Número de periodos a simular\n",
    "\n",
    "precio_equilibrio = find_equilibrium(demanda, oferta)\n",
    "print (f'El precio de equilibrio es: {precio_equilibrio}')\n"
   ]
  },
  {
   "cell_type": "code",
   "execution_count": null,
   "metadata": {},
   "outputs": [],
   "source": [
    "prices = cobWeb(a,b,c,d, precio_inicial, periodos, plot=False)\n",
    "\n",
    "graph_cobWeb(prices, demanda, oferta)"
   ]
  },
  {
   "cell_type": "markdown",
   "metadata": {},
   "source": [
    "Como podemos observar, en este caso los precios divergen. Podemos verlo graficando solo los precios:"
   ]
  },
  {
   "cell_type": "code",
   "execution_count": null,
   "metadata": {},
   "outputs": [],
   "source": [
    "null = cobWeb(a,b,c,d, precio_inicial, periodos, plot=True) #Ponemos null = simplemente para que no se muestre el resultado de la función, solo la gráfica"
   ]
  },
  {
   "cell_type": "markdown",
   "metadata": {},
   "source": [
    "## Ejercicio 13. Modelo de la telaraña V3\n",
    "Resuelve el ejercicio 11 para el caso en el que las funciones de oferta y demanda vienen dadas por:\n",
    "\n",
    "O(p) = 1 + p, D(p) = 2 − p."
   ]
  },
  {
   "cell_type": "code",
   "execution_count": null,
   "metadata": {},
   "outputs": [],
   "source": [
    "def oferta(p):\n",
    "    return 1 + p\n",
    "\n",
    "def demanda(p):\n",
    "    return 2 -  p\n",
    "\n",
    "a = 2.0\n",
    "b = 1.0\n",
    "c = 1.0\n",
    "d = 1.0\n",
    "\n",
    "# Parámetros iniciales\n",
    "precio_inicial = 1 # Un precio inicial para ver la convergencia\n",
    "periodos = 20  # Número de periodos a simular\n",
    "\n",
    "# Precio de equilibrio\n",
    "precio_equilibrio = find_equilibrium(demanda, oferta)\n",
    "print(f'El precio de equilibrio es: {precio_equilibrio}')"
   ]
  },
  {
   "cell_type": "code",
   "execution_count": null,
   "metadata": {},
   "outputs": [],
   "source": [
    "prices = cobWeb(a,b,c,d, precio_inicial, periodos, plot=False)\n",
    "graph_cobWeb(prices, demanda, oferta)"
   ]
  },
  {
   "cell_type": "markdown",
   "metadata": {},
   "source": [
    "Como vemos, en este caso los precios son constantes en un 2-ciclo. Podemos verlo graficandolos solos"
   ]
  },
  {
   "cell_type": "code",
   "execution_count": null,
   "metadata": {},
   "outputs": [],
   "source": [
    "null = cobWeb(a,b,c,d, precio_inicial, periodos, plot=True) #Ponemos null = simplemente para que no se muestre el resultado de la función, solo la gráfica"
   ]
  },
  {
   "cell_type": "markdown",
   "metadata": {},
   "source": [
    "Si usamos un precio inicial igual al precio de equilibrio, debería ser constante"
   ]
  },
  {
   "cell_type": "code",
   "execution_count": null,
   "metadata": {},
   "outputs": [],
   "source": [
    "precio_inicial = 0.5\n",
    "prices = cobWeb(a,b,c,d, precio_inicial, periodos, plot=True)\n",
    "graph_cobWeb(prices, demanda, oferta)"
   ]
  },
  {
   "cell_type": "markdown",
   "metadata": {},
   "source": [
    "## Ejercicio 14: Modelo de von Bertalanffy\n",
    "El modelo de von Bertalanffy se emplea para describir la longitud de ciertos seres vivos o de partes de ellos. En su\n",
    "versión discreta se puede formular como una ecuación lineal de orden 1:\n",
    "\n",
    "$$L_{n+1} = a+  bL_n \\ ,$$\n",
    "\n",
    "donde $L_n$ representa la longitud esperada en el periodo $n$, $a > 0$ es una constante relativa a la capacidad de absorción celular y $0 <  b < 1$ es una constante relacionada con la degradación celular.\n"
   ]
  },
  {
   "cell_type": "code",
   "execution_count": null,
   "metadata": {
    "scrolled": true
   },
   "outputs": [],
   "source": [
    "#Apartado a)\n",
    "Ln = lambda n: 3.8*(1-(0.9)**n)\n",
    "\n",
    "tabla = []\n",
    "for i in range(1,6):\n",
    "    tabla.append([i, Ln(i)])\n",
    "\n",
    "print(\"Año\\tLn\")\n",
    "      \n",
    "for fila in tabla:\n",
    "    print(\"{}\\t{:5f}\".format(fila[0], fila[1]))\n",
    "\n",
    "print(\"\\n\")"
   ]
  },
  {
   "cell_type": "markdown",
   "metadata": {},
   "source": [
    "Respecto al comportamiento asintótico de $L_n$, es fácil ver que:\n",
    "$$\\lim_{n \\rightarrow \\infty} L_n = \\lim_{n \\rightarrow \\infty} 3.8(1-(0.9)^n) = 3.8$$\n",
    "\n",
    "Para verlo más claro, vamos a graficarlo:"
   ]
  },
  {
   "cell_type": "code",
   "execution_count": null,
   "metadata": {
    "scrolled": true
   },
   "outputs": [],
   "source": [
    "secuencia = []\n",
    "for i in range(1,100):\n",
    "    secuencia.append(Ln(i))\n",
    "\n",
    "plt.plot(secuencia)\n",
    "plt.hlines(y=3.8, xmin=0, xmax=100, colors=\"red\", linestyles=\"dashed\")\n",
    "plt.ylim(0,5)\n",
    "plt.annotate('3.8', xy=(100, 3.85), xytext=(90, 3.8 + 0.3),\n",
    "             arrowprops=dict(facecolor='black', arrowstyle='->'))\n",
    "plt.show()"
   ]
  },
  {
   "cell_type": "code",
   "execution_count": null,
   "metadata": {},
   "outputs": [],
   "source": [
    "#Apartado b)\n",
    "# Este modelo, en su forma discreta, es un caso particular del modelo logístico. Vamos a graficarla:\n",
    "\n",
    "secuencia = []\n",
    "for i in range(1,100):\n",
    "    secuencia.append(modelo_logistico(0.7, 3.9, 3, i))\n",
    "\n",
    "graficar(range (1,100), secuencia, \"Puntos\", \"n\", \"Altura (cm)\", \"Ejercicio 14\")\n",
    "\n",
    "def graficar(rango, secuencia, label, x_label, y_label, title):\n",
    "    plt.plot(rango, secuencia, label=label)\n",
    "    plt.xlabel(x_label)\n",
    "    plt.ylabel(y_label)\n",
    "    plt.title(title)\n",
    "    plt.legend()\n",
    "    plt.grid(True)\n",
    "    plt.show()"
   ]
  },
  {
   "cell_type": "markdown",
   "metadata": {},
   "source": [
    "Observando la gráfica vemos que el tamaño de las hojas de esta especie de árbol puede alcanzar hasta 13cm."
   ]
  }
 ],
 "metadata": {
  "kernelspec": {
   "display_name": "Python 3 (ipykernel)",
   "language": "python",
   "name": "python3"
  },
  "language_info": {
   "codemirror_mode": {
    "name": "ipython",
    "version": 3
   },
   "file_extension": ".py",
   "mimetype": "text/x-python",
   "name": "python",
   "nbconvert_exporter": "python",
   "pygments_lexer": "ipython3",
   "version": "3.11.2"
  }
 },
 "nbformat": 4,
 "nbformat_minor": 4
}
